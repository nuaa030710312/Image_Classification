{
 "cells": [
  {
   "cell_type": "code",
   "execution_count": 1,
   "metadata": {},
   "outputs": [],
   "source": [
    "from PIL import Image\n",
    "from torch.utils.data import Dataset"
   ]
  },
  {
   "cell_type": "code",
   "execution_count": 2,
   "metadata": {},
   "outputs": [],
   "source": [
    "class MyDataset(Dataset):\n",
    "    def __init__(self,txt_path,transform=None,target_transform=None):\n",
    "        fh=open(txt_path,'r')\n",
    "        imgs=[]\n",
    "        for line in fh:\n",
    "            line=line.rstrip()\n",
    "            words=line.split()\n",
    "            imgs.append((words[0],int(words[1])))\n",
    "            \n",
    "        self.imgs=imgs\n",
    "        self.transform=transform\n",
    "        self.target_transform=target_transform\n",
    "        \n",
    "    def __getitem__(self,index):\n",
    "        fn,label=self.imgs[index]\n",
    "        img=Image.open(fn).convert('RGB')\n",
    "        \n",
    "        if self.transform is not None:\n",
    "            img=self.transform(img)\n",
    "            \n",
    "        return img,label\n",
    "    \n",
    "    def __len__(self):\n",
    "        return len(self.imgs)"
   ]
  },
  {
   "cell_type": "code",
   "execution_count": null,
   "metadata": {},
   "outputs": [],
   "source": []
  }
 ],
 "metadata": {
  "kernelspec": {
   "display_name": "pytorch",
   "language": "python",
   "name": "env_torch"
  },
  "language_info": {
   "codemirror_mode": {
    "name": "ipython",
    "version": 3
   },
   "file_extension": ".py",
   "mimetype": "text/x-python",
   "name": "python",
   "nbconvert_exporter": "python",
   "pygments_lexer": "ipython3",
   "version": "3.7.7"
  }
 },
 "nbformat": 4,
 "nbformat_minor": 4
}
